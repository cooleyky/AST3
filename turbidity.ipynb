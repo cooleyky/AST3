{
 "cells": [
  {
   "cell_type": "code",
   "execution_count": 1,
   "metadata": {
    "tags": []
   },
   "outputs": [],
   "source": [
    "from concurrent.futures import ThreadPoolExecutor\n",
    "import requests\n",
    "import os\n",
    "import glob\n",
    "from Parsers.parsers import TURBD"
   ]
  },
  {
   "cell_type": "code",
   "execution_count": null,
   "metadata": {},
   "outputs": [],
   "source": [
    "def download_file(url):\n",
    "    response = requests.get(url)\n",
    "    if \"content-disposition\" in response.headers:\n",
    "        content_disposition = response.headers[\"content-disposition\"]\n",
    "        filename = content_disposition.split(\"filename=\")[1]\n",
    "    else:\n",
    "        filename = url.split(\"/\")[-1]\n",
    "    with open(filename, mode=\"wb\") as file:\n",
    "        file.write(response.content)\n",
    "    print(f\"Downloaded file {filename}\")"
   ]
  },
  {
   "cell_type": "code",
   "execution_count": 2,
   "metadata": {
    "tags": []
   },
   "outputs": [
    {
     "data": {
      "text/plain": [
       "'https://rawdata-west.oceanobservatories.org/files/AS03CPSM/R00001/cg_data/dcl16/turbd/20230109.turbd.log'"
      ]
     },
     "execution_count": 2,
     "metadata": {},
     "output_type": "execute_result"
    }
   ],
   "source": [
    "url = \"https://rawdata-west.oceanobservatories.org/files/AS03CPSM/R00001/cg_data/dcl16/turbd/20230109.turbd.log\"\n",
    "response = requests.get(url)\n",
    "response.url"
   ]
  },
  {
   "cell_type": "code",
   "execution_count": 3,
   "metadata": {
    "tags": []
   },
   "outputs": [
    {
     "data": {
      "text/plain": [
       "200"
      ]
     },
     "execution_count": 3,
     "metadata": {},
     "output_type": "execute_result"
    }
   ],
   "source": [
    "response.status_code"
   ]
  },
  {
   "cell_type": "code",
   "execution_count": 6,
   "metadata": {
    "tags": []
   },
   "outputs": [],
   "source": [
    "os.makedirs(\"data/ast3_turbidity_data\", exist_ok=True)\n",
    "with open(\"data/ast3_turbidity_data/{filename}\".format(filename=response.url.split('/')[-1]), mode=\"wb\") as file:\n",
    "    file.write(response.content)"
   ]
  },
  {
   "cell_type": "code",
   "execution_count": 2,
   "metadata": {
    "tags": []
   },
   "outputs": [
    {
     "data": {
      "text/plain": [
       "['data/ast3_turbidity_data/20230109.turbd.log']"
      ]
     },
     "execution_count": 2,
     "metadata": {},
     "output_type": "execute_result"
    }
   ],
   "source": [
    "files = glob.glob(\"data/ast3_turbidity_data/*\")\n",
    "files"
   ]
  },
  {
   "cell_type": "code",
   "execution_count": 8,
   "metadata": {
    "tags": []
   },
   "outputs": [
    {
     "name": "stdout",
     "output_type": "stream",
     "text": [
      "Parsing 20230109.turbd.log\n"
     ]
    }
   ],
   "source": [
    "turbd = TURBD()\n",
    "turbd.load_turbd(files)\n",
    "data = turbd.DATA"
   ]
  },
  {
   "cell_type": "code",
   "execution_count": 9,
   "metadata": {
    "tags": []
   },
   "outputs": [
    {
     "data": {
      "text/html": [
       "<div>\n",
       "<style scoped>\n",
       "    .dataframe tbody tr th:only-of-type {\n",
       "        vertical-align: middle;\n",
       "    }\n",
       "\n",
       "    .dataframe tbody tr th {\n",
       "        vertical-align: top;\n",
       "    }\n",
       "\n",
       "    .dataframe thead th {\n",
       "        text-align: right;\n",
       "    }\n",
       "</style>\n",
       "<table border=\"1\" class=\"dataframe\">\n",
       "  <thead>\n",
       "    <tr style=\"text-align: right;\">\n",
       "      <th></th>\n",
       "      <th>LGR_TIMESTAMP</th>\n",
       "      <th>TIMESTAMP</th>\n",
       "      <th>TURBIDITY</th>\n",
       "    </tr>\n",
       "  </thead>\n",
       "  <tbody>\n",
       "    <tr>\n",
       "      <th>0</th>\n",
       "      <td>2023-01-09 00:00:05.674</td>\n",
       "      <td>2023-01-09 00:00:03.500</td>\n",
       "      <td>6.1616</td>\n",
       "    </tr>\n",
       "    <tr>\n",
       "      <th>1</th>\n",
       "      <td>2023-01-09 00:00:06.175</td>\n",
       "      <td>2023-01-09 00:00:04.000</td>\n",
       "      <td>6.1662</td>\n",
       "    </tr>\n",
       "    <tr>\n",
       "      <th>2</th>\n",
       "      <td>2023-01-09 00:00:06.674</td>\n",
       "      <td>2023-01-09 00:00:04.500</td>\n",
       "      <td>6.1648</td>\n",
       "    </tr>\n",
       "    <tr>\n",
       "      <th>3</th>\n",
       "      <td>2023-01-09 00:00:07.174</td>\n",
       "      <td>2023-01-09 00:00:05.000</td>\n",
       "      <td>6.1640</td>\n",
       "    </tr>\n",
       "    <tr>\n",
       "      <th>4</th>\n",
       "      <td>2023-01-09 00:00:07.675</td>\n",
       "      <td>2023-01-09 00:00:05.500</td>\n",
       "      <td>6.1633</td>\n",
       "    </tr>\n",
       "    <tr>\n",
       "      <th>...</th>\n",
       "      <td>...</td>\n",
       "      <td>...</td>\n",
       "      <td>...</td>\n",
       "    </tr>\n",
       "    <tr>\n",
       "      <th>5664</th>\n",
       "      <td>2023-01-09 23:31:02.230</td>\n",
       "      <td>2023-01-09 23:31:00.000</td>\n",
       "      <td>6.2734</td>\n",
       "    </tr>\n",
       "    <tr>\n",
       "      <th>5665</th>\n",
       "      <td>2023-01-09 23:31:02.733</td>\n",
       "      <td>2023-01-09 23:31:00.500</td>\n",
       "      <td>6.2758</td>\n",
       "    </tr>\n",
       "    <tr>\n",
       "      <th>5666</th>\n",
       "      <td>2023-01-09 23:31:03.231</td>\n",
       "      <td>2023-01-09 23:31:01.000</td>\n",
       "      <td>6.2758</td>\n",
       "    </tr>\n",
       "    <tr>\n",
       "      <th>5667</th>\n",
       "      <td>2023-01-09 23:31:03.730</td>\n",
       "      <td>2023-01-09 23:31:01.500</td>\n",
       "      <td>6.2749</td>\n",
       "    </tr>\n",
       "    <tr>\n",
       "      <th>5668</th>\n",
       "      <td>2023-01-09 23:31:04.231</td>\n",
       "      <td>2023-01-09 23:31:02.000</td>\n",
       "      <td>6.2758</td>\n",
       "    </tr>\n",
       "  </tbody>\n",
       "</table>\n",
       "<p>5669 rows × 3 columns</p>\n",
       "</div>"
      ],
      "text/plain": [
       "               LGR_TIMESTAMP               TIMESTAMP  TURBIDITY\n",
       "0    2023-01-09 00:00:05.674 2023-01-09 00:00:03.500     6.1616\n",
       "1    2023-01-09 00:00:06.175 2023-01-09 00:00:04.000     6.1662\n",
       "2    2023-01-09 00:00:06.674 2023-01-09 00:00:04.500     6.1648\n",
       "3    2023-01-09 00:00:07.174 2023-01-09 00:00:05.000     6.1640\n",
       "4    2023-01-09 00:00:07.675 2023-01-09 00:00:05.500     6.1633\n",
       "...                      ...                     ...        ...\n",
       "5664 2023-01-09 23:31:02.230 2023-01-09 23:31:00.000     6.2734\n",
       "5665 2023-01-09 23:31:02.733 2023-01-09 23:31:00.500     6.2758\n",
       "5666 2023-01-09 23:31:03.231 2023-01-09 23:31:01.000     6.2758\n",
       "5667 2023-01-09 23:31:03.730 2023-01-09 23:31:01.500     6.2749\n",
       "5668 2023-01-09 23:31:04.231 2023-01-09 23:31:02.000     6.2758\n",
       "\n",
       "[5669 rows x 3 columns]"
      ]
     },
     "execution_count": 9,
     "metadata": {},
     "output_type": "execute_result"
    }
   ],
   "source": [
    "data"
   ]
  },
  {
   "cell_type": "code",
   "execution_count": null,
   "metadata": {},
   "outputs": [],
   "source": []
  }
 ],
 "metadata": {
  "kernelspec": {
   "display_name": "ooi",
   "language": "python",
   "name": "ooi"
  },
  "language_info": {
   "codemirror_mode": {
    "name": "ipython",
    "version": 3
   },
   "file_extension": ".py",
   "mimetype": "text/x-python",
   "name": "python",
   "nbconvert_exporter": "python",
   "pygments_lexer": "ipython3",
   "version": "3.10.12"
  }
 },
 "nbformat": 4,
 "nbformat_minor": 4
}
